{
 "cells": [
  {
   "cell_type": "code",
   "execution_count": 3,
   "metadata": {
    "collapsed": false
   },
   "outputs": [
    {
     "name": "stdout",
     "output_type": "stream",
     "text": [
      "Loading word vectors . . .\n",
      "Loaded 400000 vectors in 33.9729998112\n",
      "Enter sentence 1: \n"
     ]
    }
   ],
   "source": [
    "from scipy import spatial\n",
    "from sys import stdin\n",
    "import re\n",
    "import time\n",
    "import numpy as np\n",
    "import os\n",
    "\n",
    "working_dir = r'.'\n",
    "\n",
    "## Read and load vectors for words ##\n",
    "vectors = {}\n",
    "def load_vectors(vectors_file):\n",
    "    print('Loading word vectors . . .')\n",
    "    start = time.time()\n",
    "    \n",
    "    count = 0\n",
    "    with open(vectors_file, 'r') as f:\n",
    "        for line in f:\n",
    "            vals = line.rstrip().split(' ')\n",
    "            vectors[vals[0]] = np.asarray([float(x) for x in vals[1:]], dtype=np.float64)\n",
    "            count += 1\n",
    "\n",
    "    end = time.time()\n",
    "    print('Loaded '+ str(count) +' vectors in ' + str(end - start))\n",
    "    \n",
    "## Get cosine similarity using scipy's distance function ##\n",
    "def Words_CosineSimilarity(w1, w2):\n",
    "    if w1 not in vectors:\n",
    "        print(w1 + ' not in vocab')\n",
    "        return 0\n",
    "    elif w2 not in vectors:\n",
    "        print(w2 + ' not in vocab')\n",
    "        return 0\n",
    "\n",
    "    w1_vector = vectors[w1]\n",
    "    w2_vector = vectors[w2]\n",
    "\n",
    "    return 1 - spatial.distance.cosine(w1_vector, w2_vector)\n",
    "\n",
    "## sentence similarity based on averaging of the vectors ##\n",
    "def GetSentenceVector(s1):\n",
    "    s1 = s1.lower()\n",
    "    tokens = re.findall(r\"\\w+|[^\\w\\s]\", s1, re.UNICODE)\n",
    "    \n",
    "    token_vectors = np.array([vectors[w] for w in tokens if w in vectors])\n",
    "    if token_vectors.size == 0:\n",
    "        return None\n",
    "    \n",
    "    average_vector = np.mean(token_vectors, axis=0)\n",
    "\n",
    "    \n",
    "    return average_vector\n",
    "\n",
    "def Sentences_CosineSimilarity(s1, s2):\n",
    "    s1_vector = GetSentenceVector(s1)\n",
    "    s2_vector = GetSentenceVector(s2)\n",
    "\n",
    "    if (s1_vector is not None) and (s2_vector is not None):\n",
    "        return 1 - spatial.distance.cosine(s1_vector, s2_vector)\n",
    "    \n",
    "    return 0\n",
    "\n",
    "if __name__ == '__main__':\n",
    "    load_vectors(os.path.join(working_dir, 'glove.6B', 'glove.6B.50d.txt'))\n",
    "    \n",
    "    ## Play with sentences ##\n",
    "    while True:\n",
    "        print('Enter sentence 1: ')\n",
    "        sentence_1 = stdin.readline().strip('\\n').strip()\n",
    "\n",
    "        if sentence_1 == '':\n",
    "            break\n",
    "\n",
    "        print('Enter sentence 2: ')\n",
    "        sentence_2 = stdin.readline().strip('\\n').strip()\n",
    "\n",
    "        print('Similarity Score: ' + str(Sentences_CosineSimilarity(sentence_1, sentence_2)) + '\\n')"
   ]
  },
  {
   "cell_type": "code",
   "execution_count": null,
   "metadata": {
    "collapsed": true
   },
   "outputs": [],
   "source": []
  }
 ],
 "metadata": {
  "kernelspec": {
   "display_name": "Python 2",
   "language": "python",
   "name": "python2"
  },
  "language_info": {
   "codemirror_mode": {
    "name": "ipython",
    "version": 2
   },
   "file_extension": ".py",
   "mimetype": "text/x-python",
   "name": "python",
   "nbconvert_exporter": "python",
   "pygments_lexer": "ipython2",
   "version": "2.7.11"
  }
 },
 "nbformat": 4,
 "nbformat_minor": 2
}
